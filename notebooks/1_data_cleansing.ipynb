{
 "cells": [
  {
   "attachments": {},
   "cell_type": "markdown",
   "metadata": {},
   "source": [
    "# Introdução e limpeza\n",
    "\n",
    "O scraping foi realizado com a biblioteca selenium e está otimizado para que seja replicável em outras máquinas e computadores.\n",
    "\n",
    "Cada .csv possui as seguintes colunas:\n",
    "\n",
    "- `Unnamed: 0`: sujeira do processo de scrapping\n",
    "- `Rank`: Indica o lugar no ranking que a música ficou, entre 1 a 100, naquela semana que ela entrou no chart.\n",
    "- `Previous Rank`: Indica o lugar no raking que a música ficou na semana anterior. Null e similares ocorre quando a música não esteve no ranking.\n",
    "- `Track Name`: Nome da faixa \n",
    "- `Artist Names`: Nome do artista\n",
    "- `Weeks on Chart`: Quantas semanas a faixa ficou nos charts das 100 mais reproduzidas no Youtube Brasil\n",
    "- `Views`: Número de visualizações do vídeos naquela semana\n",
    "- `Weekly Growth`: Crescimento percentual de visualizações em relação a semana anterior\n",
    "- `Youtube URL`: Url de acesso ao vídeo\n",
    "- `week_ref`: coluna introduzida no processo de scrapping para facilitar manipulações. Varia de 0 a 70. Quanto maior o número, maior a distância do dia de realização do scrapping, sendo 0 a última semana disponível de dados.\n",
    "- `week_open`: Data de início da semana referente ao chart\n",
    "- `week_close`: Data de fechamento da semana referente ao chart \n",
    "\n",
    "Mais a frente, será adicionada a coluna\n",
    "- `frontline`: valores booleanos 0 e 1. A coluna informará se a faixa faz parte da categoria \"frontline\", grupo de faixas que foram lançadas a menos de 42 semanas."
   ]
  },
  {
   "attachments": {},
   "cell_type": "markdown",
   "metadata": {},
   "source": [
    "Neste notebook, concatenarei os dataframes gerados a partir do script de scrapping, permitindo que prossigamos com a análise. Também será ralizado tratamento do dataframe e `casting` para melhor adequar os tipos de dados. O markdown será mantido em português e o código utilizará variáveis e comentários em inglês para manter o padrão das convenções do `python`"
   ]
  },
  {
   "cell_type": "code",
   "execution_count": 41,
   "metadata": {},
   "outputs": [],
   "source": [
    "import os\n",
    "import pandas as pd\n",
    "import numpy as np\n",
    "from datetime import datetime\n",
    "\n",
    "path = '../data/raw'\n",
    "files = os.listdir(path)\n",
    "\n",
    "csv_files = [f for f in files if f.endswith('.csv')]\n",
    "\n",
    "df_list = []\n",
    "\n",
    "for csv_file in csv_files:\n",
    "    df = pd.read_csv(os.path.join(path, csv_file))\n",
    "    df_list.append(df)\n",
    "\n",
    "# Concatenaing all .csvs into a one big file \n",
    "weekly_charts = pd.concat(df_list)\n",
    "weekly_charts.reset_index(drop=True, inplace=True)"
   ]
  },
  {
   "attachments": {},
   "cell_type": "markdown",
   "metadata": {},
   "source": [
    "Checando o dataframe criado:"
   ]
  },
  {
   "cell_type": "code",
   "execution_count": 42,
   "metadata": {},
   "outputs": [
    {
     "name": "stdout",
     "output_type": "stream",
     "text": [
      "<class 'pandas.core.frame.DataFrame'>\n",
      "RangeIndex: 7100 entries, 0 to 7099\n",
      "Data columns (total 12 columns):\n",
      " #   Column          Non-Null Count  Dtype  \n",
      "---  ------          --------------  -----  \n",
      " 0   Unnamed: 0      7100 non-null   int64  \n",
      " 1   Rank            7100 non-null   int64  \n",
      " 2   Previous Rank   6000 non-null   float64\n",
      " 3   Track Name      7100 non-null   object \n",
      " 4   Artist Names    7100 non-null   object \n",
      " 5   Weeks on Chart  7100 non-null   int64  \n",
      " 6   Views           7100 non-null   int64  \n",
      " 7   Weekly Growth   6000 non-null   object \n",
      " 8   YouTube URL     7100 non-null   object \n",
      " 9   week_ref        7100 non-null   int64  \n",
      " 10  week_open       7100 non-null   object \n",
      " 11  week_close      7100 non-null   object \n",
      "dtypes: float64(1), int64(5), object(6)\n",
      "memory usage: 665.8+ KB\n"
     ]
    }
   ],
   "source": [
    "weekly_charts.info()"
   ]
  },
  {
   "attachments": {},
   "cell_type": "markdown",
   "metadata": {},
   "source": [
    "Removendo a coluna `Unnamed: 0`, sujeira do processo de scrap."
   ]
  },
  {
   "cell_type": "code",
   "execution_count": 43,
   "metadata": {},
   "outputs": [
    {
     "name": "stdout",
     "output_type": "stream",
     "text": [
      "<class 'pandas.core.frame.DataFrame'>\n",
      "RangeIndex: 7100 entries, 0 to 7099\n",
      "Data columns (total 11 columns):\n",
      " #   Column          Non-Null Count  Dtype  \n",
      "---  ------          --------------  -----  \n",
      " 0   Rank            7100 non-null   int64  \n",
      " 1   Previous Rank   6000 non-null   float64\n",
      " 2   Track Name      7100 non-null   object \n",
      " 3   Artist Names    7100 non-null   object \n",
      " 4   Weeks on Chart  7100 non-null   int64  \n",
      " 5   Views           7100 non-null   int64  \n",
      " 6   Weekly Growth   6000 non-null   object \n",
      " 7   YouTube URL     7100 non-null   object \n",
      " 8   week_ref        7100 non-null   int64  \n",
      " 9   week_open       7100 non-null   object \n",
      " 10  week_close      7100 non-null   object \n",
      "dtypes: float64(1), int64(4), object(6)\n",
      "memory usage: 610.3+ KB\n"
     ]
    }
   ],
   "source": [
    "weekly_charts = weekly_charts.drop([\"Unnamed: 0\"], axis=1)\n",
    "weekly_charts.info()"
   ]
  },
  {
   "attachments": {},
   "cell_type": "markdown",
   "metadata": {},
   "source": [
    "Ajustando tipos de colunas para datetime:"
   ]
  },
  {
   "cell_type": "code",
   "execution_count": 44,
   "metadata": {},
   "outputs": [
    {
     "name": "stdout",
     "output_type": "stream",
     "text": [
      "<class 'pandas.core.frame.DataFrame'>\n",
      "RangeIndex: 7100 entries, 0 to 7099\n",
      "Data columns (total 11 columns):\n",
      " #   Column          Non-Null Count  Dtype         \n",
      "---  ------          --------------  -----         \n",
      " 0   Rank            7100 non-null   int64         \n",
      " 1   Previous Rank   6000 non-null   float64       \n",
      " 2   Track Name      7100 non-null   object        \n",
      " 3   Artist Names    7100 non-null   object        \n",
      " 4   Weeks on Chart  7100 non-null   int64         \n",
      " 5   Views           7100 non-null   int64         \n",
      " 6   Weekly Growth   6000 non-null   object        \n",
      " 7   YouTube URL     7100 non-null   object        \n",
      " 8   week_ref        7100 non-null   int64         \n",
      " 9   week_open       7100 non-null   datetime64[ns]\n",
      " 10  week_close      7100 non-null   datetime64[ns]\n",
      "dtypes: datetime64[ns](2), float64(1), int64(4), object(4)\n",
      "memory usage: 610.3+ KB\n"
     ]
    }
   ],
   "source": [
    "# Convertting columns to datetime.\n",
    "weekly_charts['week_open'] = pd.to_datetime(weekly_charts[\"week_open\"])\n",
    "weekly_charts['week_close'] = pd.to_datetime(weekly_charts[\"week_close\"])\n",
    "weekly_charts.info()"
   ]
  },
  {
   "attachments": {},
   "cell_type": "markdown",
   "metadata": {},
   "source": [
    "Verificando e tratando `nulls`, `NaNs` e `<NA>`"
   ]
  },
  {
   "cell_type": "code",
   "execution_count": 45,
   "metadata": {},
   "outputs": [
    {
     "data": {
      "text/plain": [
       "Rank              False\n",
       "Previous Rank      True\n",
       "Track Name        False\n",
       "Artist Names      False\n",
       "Weeks on Chart    False\n",
       "Views             False\n",
       "Weekly Growth      True\n",
       "YouTube URL       False\n",
       "week_ref          False\n",
       "week_open         False\n",
       "week_close        False\n",
       "dtype: bool"
      ]
     },
     "execution_count": 45,
     "metadata": {},
     "output_type": "execute_result"
    }
   ],
   "source": [
    "weekly_charts.isna().any()"
   ]
  },
  {
   "cell_type": "code",
   "execution_count": 46,
   "metadata": {},
   "outputs": [
    {
     "data": {
      "text/plain": [
       "Rank              False\n",
       "Previous Rank      True\n",
       "Track Name        False\n",
       "Artist Names      False\n",
       "Weeks on Chart    False\n",
       "Views             False\n",
       "Weekly Growth      True\n",
       "YouTube URL       False\n",
       "week_ref          False\n",
       "week_open         False\n",
       "week_close        False\n",
       "dtype: bool"
      ]
     },
     "execution_count": 46,
     "metadata": {},
     "output_type": "execute_result"
    }
   ],
   "source": [
    "weekly_charts.isnull().any()"
   ]
  },
  {
   "attachments": {},
   "cell_type": "markdown",
   "metadata": {},
   "source": [
    "`Previous Rank` apresenta o tipo `float64` e `Weekly Growth` aparece como objeto (`string`). Ambas colunas também possuem objetos `NaNs` e `<NA>`. Cerca de 1100 - o que é justificável, visto que algumas músicas entram nos _charts_ sem necessariamente ter estado anteriormente. Portanto, não há, nesses casos, nem rank prévio, nem crescimento semanal. Entretanto, considerando que os rankings variam de 1 a 100, o ideal é que a `series` de `Previous Rank` se apresente como integers, em razão da precisão. O mesmo vale para `Weekly Growth`.\n",
    "\n",
    "Como os métodos mais comuns de lidar com nulos não fazem sentido nesse caso, visto que o `drop` de uma linha pode ser prejudicial à nossa análise e a substituição dos `NaNs` e `<NA>` por medianas tampouco faz sentido, substituiremos nulos por `zeros` e optaremos por converter o tipo float64 para int64, tipo específico que é capaz de receber nulos e `NaNs`."
   ]
  },
  {
   "cell_type": "code",
   "execution_count": 47,
   "metadata": {},
   "outputs": [],
   "source": [
    "#Convertting NaNs and <NA> and nulls to Zero\n",
    "weekly_charts[\"Previous Rank\"].fillna(0, inplace=True)\n",
    "#Convertting to Int64\n",
    "weekly_charts[\"Previous Rank\"] = weekly_charts['Previous Rank'].astype('int64')\n"
   ]
  },
  {
   "cell_type": "code",
   "execution_count": 48,
   "metadata": {},
   "outputs": [
    {
     "name": "stdout",
     "output_type": "stream",
     "text": [
      "<class 'pandas.core.frame.DataFrame'>\n",
      "RangeIndex: 7100 entries, 0 to 7099\n",
      "Data columns (total 11 columns):\n",
      " #   Column          Non-Null Count  Dtype         \n",
      "---  ------          --------------  -----         \n",
      " 0   Rank            7100 non-null   int64         \n",
      " 1   Previous Rank   7100 non-null   int64         \n",
      " 2   Track Name      7100 non-null   object        \n",
      " 3   Artist Names    7100 non-null   object        \n",
      " 4   Weeks on Chart  7100 non-null   int64         \n",
      " 5   Views           7100 non-null   int64         \n",
      " 6   Weekly Growth   6000 non-null   object        \n",
      " 7   YouTube URL     7100 non-null   object        \n",
      " 8   week_ref        7100 non-null   int64         \n",
      " 9   week_open       7100 non-null   datetime64[ns]\n",
      " 10  week_close      7100 non-null   datetime64[ns]\n",
      "dtypes: datetime64[ns](2), int64(5), object(4)\n",
      "memory usage: 610.3+ KB\n"
     ]
    }
   ],
   "source": [
    "weekly_charts.info()"
   ]
  },
  {
   "cell_type": "code",
   "execution_count": 49,
   "metadata": {},
   "outputs": [
    {
     "data": {
      "text/html": [
       "<div>\n",
       "<style scoped>\n",
       "    .dataframe tbody tr th:only-of-type {\n",
       "        vertical-align: middle;\n",
       "    }\n",
       "\n",
       "    .dataframe tbody tr th {\n",
       "        vertical-align: top;\n",
       "    }\n",
       "\n",
       "    .dataframe thead th {\n",
       "        text-align: right;\n",
       "    }\n",
       "</style>\n",
       "<table border=\"1\" class=\"dataframe\">\n",
       "  <thead>\n",
       "    <tr style=\"text-align: right;\">\n",
       "      <th></th>\n",
       "      <th>Rank</th>\n",
       "      <th>Previous Rank</th>\n",
       "      <th>Track Name</th>\n",
       "      <th>Artist Names</th>\n",
       "      <th>Weeks on Chart</th>\n",
       "      <th>Views</th>\n",
       "      <th>Weekly Growth</th>\n",
       "      <th>YouTube URL</th>\n",
       "      <th>week_ref</th>\n",
       "      <th>week_open</th>\n",
       "      <th>week_close</th>\n",
       "    </tr>\n",
       "  </thead>\n",
       "  <tbody>\n",
       "    <tr>\n",
       "      <th>0</th>\n",
       "      <td>1</td>\n",
       "      <td>1</td>\n",
       "      <td>Malvada</td>\n",
       "      <td>Zé Felipe</td>\n",
       "      <td>2</td>\n",
       "      <td>21185310</td>\n",
       "      <td>9.8%</td>\n",
       "      <td>https://www.youtube.com/watch?v=r0mNwyywHIY</td>\n",
       "      <td>70</td>\n",
       "      <td>2022-02-04</td>\n",
       "      <td>2022-02-10</td>\n",
       "    </tr>\n",
       "    <tr>\n",
       "      <th>1</th>\n",
       "      <td>2</td>\n",
       "      <td>2</td>\n",
       "      <td>Malvadão 3</td>\n",
       "      <td>Xamã</td>\n",
       "      <td>8</td>\n",
       "      <td>17063733</td>\n",
       "      <td>-3.7%</td>\n",
       "      <td>https://www.youtube.com/watch?v=i9NOkjmBszo</td>\n",
       "      <td>70</td>\n",
       "      <td>2022-02-04</td>\n",
       "      <td>2022-02-10</td>\n",
       "    </tr>\n",
       "    <tr>\n",
       "      <th>2</th>\n",
       "      <td>3</td>\n",
       "      <td>3</td>\n",
       "      <td>Depende</td>\n",
       "      <td>Dj Guuga</td>\n",
       "      <td>8</td>\n",
       "      <td>11911917</td>\n",
       "      <td>8.7%</td>\n",
       "      <td>https://www.youtube.com/watch?v=v9geHIUOxeA</td>\n",
       "      <td>70</td>\n",
       "      <td>2022-02-04</td>\n",
       "      <td>2022-02-10</td>\n",
       "    </tr>\n",
       "    <tr>\n",
       "      <th>3</th>\n",
       "      <td>4</td>\n",
       "      <td>4</td>\n",
       "      <td>Vontade De Morder</td>\n",
       "      <td>Simone &amp; Simaria &amp; Zé Felipe</td>\n",
       "      <td>4</td>\n",
       "      <td>11243771</td>\n",
       "      <td>3.4%</td>\n",
       "      <td>https://www.youtube.com/watch?v=bgf18kANm_k</td>\n",
       "      <td>70</td>\n",
       "      <td>2022-02-04</td>\n",
       "      <td>2022-02-10</td>\n",
       "    </tr>\n",
       "    <tr>\n",
       "      <th>4</th>\n",
       "      <td>5</td>\n",
       "      <td>6</td>\n",
       "      <td>Mal Feito (Ao Vivo)</td>\n",
       "      <td>Hugo &amp; Guilherme &amp; Marília Mendonça</td>\n",
       "      <td>4</td>\n",
       "      <td>9643194</td>\n",
       "      <td>-5.6%</td>\n",
       "      <td>https://www.youtube.com/watch?v=kyfXEMqvLgU</td>\n",
       "      <td>70</td>\n",
       "      <td>2022-02-04</td>\n",
       "      <td>2022-02-10</td>\n",
       "    </tr>\n",
       "  </tbody>\n",
       "</table>\n",
       "</div>"
      ],
      "text/plain": [
       "   Rank  Previous Rank           Track Name  \\\n",
       "0     1              1              Malvada   \n",
       "1     2              2           Malvadão 3   \n",
       "2     3              3              Depende   \n",
       "3     4              4    Vontade De Morder   \n",
       "4     5              6  Mal Feito (Ao Vivo)   \n",
       "\n",
       "                          Artist Names  Weeks on Chart     Views  \\\n",
       "0                            Zé Felipe               2  21185310   \n",
       "1                                 Xamã               8  17063733   \n",
       "2                             Dj Guuga               8  11911917   \n",
       "3         Simone & Simaria & Zé Felipe               4  11243771   \n",
       "4  Hugo & Guilherme & Marília Mendonça               4   9643194   \n",
       "\n",
       "  Weekly Growth                                  YouTube URL  week_ref  \\\n",
       "0          9.8%  https://www.youtube.com/watch?v=r0mNwyywHIY        70   \n",
       "1         -3.7%  https://www.youtube.com/watch?v=i9NOkjmBszo        70   \n",
       "2          8.7%  https://www.youtube.com/watch?v=v9geHIUOxeA        70   \n",
       "3          3.4%  https://www.youtube.com/watch?v=bgf18kANm_k        70   \n",
       "4         -5.6%  https://www.youtube.com/watch?v=kyfXEMqvLgU        70   \n",
       "\n",
       "   week_open week_close  \n",
       "0 2022-02-04 2022-02-10  \n",
       "1 2022-02-04 2022-02-10  \n",
       "2 2022-02-04 2022-02-10  \n",
       "3 2022-02-04 2022-02-10  \n",
       "4 2022-02-04 2022-02-10  "
      ]
     },
     "execution_count": 49,
     "metadata": {},
     "output_type": "execute_result"
    }
   ],
   "source": [
    "weekly_charts.head()"
   ]
  },
  {
   "attachments": {},
   "cell_type": "markdown",
   "metadata": {},
   "source": [
    "A coluna `Weekly Growth`, por sua vez, é incapaz de ser convertida para valor numérico em razão do elemento \"%\". Para isso, converteremos porcentagens em decimais"
   ]
  },
  {
   "cell_type": "code",
   "execution_count": 50,
   "metadata": {},
   "outputs": [
    {
     "name": "stdout",
     "output_type": "stream",
     "text": [
      "<class 'pandas.core.frame.DataFrame'>\n",
      "RangeIndex: 7100 entries, 0 to 7099\n",
      "Data columns (total 11 columns):\n",
      " #   Column          Non-Null Count  Dtype         \n",
      "---  ------          --------------  -----         \n",
      " 0   Rank            7100 non-null   int64         \n",
      " 1   Previous Rank   7100 non-null   int64         \n",
      " 2   Track Name      7100 non-null   object        \n",
      " 3   Artist Names    7100 non-null   object        \n",
      " 4   Weeks on Chart  7100 non-null   int64         \n",
      " 5   Views           7100 non-null   int64         \n",
      " 6   Weekly Growth   7100 non-null   float64       \n",
      " 7   YouTube URL     7100 non-null   object        \n",
      " 8   week_ref        7100 non-null   int64         \n",
      " 9   week_open       7100 non-null   datetime64[ns]\n",
      " 10  week_close      7100 non-null   datetime64[ns]\n",
      "dtypes: datetime64[ns](2), float64(1), int64(5), object(3)\n",
      "memory usage: 610.3+ KB\n"
     ]
    },
    {
     "data": {
      "text/html": [
       "<div>\n",
       "<style scoped>\n",
       "    .dataframe tbody tr th:only-of-type {\n",
       "        vertical-align: middle;\n",
       "    }\n",
       "\n",
       "    .dataframe tbody tr th {\n",
       "        vertical-align: top;\n",
       "    }\n",
       "\n",
       "    .dataframe thead th {\n",
       "        text-align: right;\n",
       "    }\n",
       "</style>\n",
       "<table border=\"1\" class=\"dataframe\">\n",
       "  <thead>\n",
       "    <tr style=\"text-align: right;\">\n",
       "      <th></th>\n",
       "      <th>Rank</th>\n",
       "      <th>Previous Rank</th>\n",
       "      <th>Track Name</th>\n",
       "      <th>Artist Names</th>\n",
       "      <th>Weeks on Chart</th>\n",
       "      <th>Views</th>\n",
       "      <th>Weekly Growth</th>\n",
       "      <th>YouTube URL</th>\n",
       "      <th>week_ref</th>\n",
       "      <th>week_open</th>\n",
       "      <th>week_close</th>\n",
       "    </tr>\n",
       "  </thead>\n",
       "  <tbody>\n",
       "    <tr>\n",
       "      <th>0</th>\n",
       "      <td>1</td>\n",
       "      <td>1</td>\n",
       "      <td>Malvada</td>\n",
       "      <td>Zé Felipe</td>\n",
       "      <td>2</td>\n",
       "      <td>21185310</td>\n",
       "      <td>0.098</td>\n",
       "      <td>https://www.youtube.com/watch?v=r0mNwyywHIY</td>\n",
       "      <td>70</td>\n",
       "      <td>2022-02-04</td>\n",
       "      <td>2022-02-10</td>\n",
       "    </tr>\n",
       "    <tr>\n",
       "      <th>1</th>\n",
       "      <td>2</td>\n",
       "      <td>2</td>\n",
       "      <td>Malvadão 3</td>\n",
       "      <td>Xamã</td>\n",
       "      <td>8</td>\n",
       "      <td>17063733</td>\n",
       "      <td>-0.037</td>\n",
       "      <td>https://www.youtube.com/watch?v=i9NOkjmBszo</td>\n",
       "      <td>70</td>\n",
       "      <td>2022-02-04</td>\n",
       "      <td>2022-02-10</td>\n",
       "    </tr>\n",
       "    <tr>\n",
       "      <th>2</th>\n",
       "      <td>3</td>\n",
       "      <td>3</td>\n",
       "      <td>Depende</td>\n",
       "      <td>Dj Guuga</td>\n",
       "      <td>8</td>\n",
       "      <td>11911917</td>\n",
       "      <td>0.087</td>\n",
       "      <td>https://www.youtube.com/watch?v=v9geHIUOxeA</td>\n",
       "      <td>70</td>\n",
       "      <td>2022-02-04</td>\n",
       "      <td>2022-02-10</td>\n",
       "    </tr>\n",
       "    <tr>\n",
       "      <th>3</th>\n",
       "      <td>4</td>\n",
       "      <td>4</td>\n",
       "      <td>Vontade De Morder</td>\n",
       "      <td>Simone &amp; Simaria &amp; Zé Felipe</td>\n",
       "      <td>4</td>\n",
       "      <td>11243771</td>\n",
       "      <td>0.034</td>\n",
       "      <td>https://www.youtube.com/watch?v=bgf18kANm_k</td>\n",
       "      <td>70</td>\n",
       "      <td>2022-02-04</td>\n",
       "      <td>2022-02-10</td>\n",
       "    </tr>\n",
       "    <tr>\n",
       "      <th>4</th>\n",
       "      <td>5</td>\n",
       "      <td>6</td>\n",
       "      <td>Mal Feito (Ao Vivo)</td>\n",
       "      <td>Hugo &amp; Guilherme &amp; Marília Mendonça</td>\n",
       "      <td>4</td>\n",
       "      <td>9643194</td>\n",
       "      <td>-0.056</td>\n",
       "      <td>https://www.youtube.com/watch?v=kyfXEMqvLgU</td>\n",
       "      <td>70</td>\n",
       "      <td>2022-02-04</td>\n",
       "      <td>2022-02-10</td>\n",
       "    </tr>\n",
       "  </tbody>\n",
       "</table>\n",
       "</div>"
      ],
      "text/plain": [
       "   Rank  Previous Rank           Track Name  \\\n",
       "0     1              1              Malvada   \n",
       "1     2              2           Malvadão 3   \n",
       "2     3              3              Depende   \n",
       "3     4              4    Vontade De Morder   \n",
       "4     5              6  Mal Feito (Ao Vivo)   \n",
       "\n",
       "                          Artist Names  Weeks on Chart     Views  \\\n",
       "0                            Zé Felipe               2  21185310   \n",
       "1                                 Xamã               8  17063733   \n",
       "2                             Dj Guuga               8  11911917   \n",
       "3         Simone & Simaria & Zé Felipe               4  11243771   \n",
       "4  Hugo & Guilherme & Marília Mendonça               4   9643194   \n",
       "\n",
       "   Weekly Growth                                  YouTube URL  week_ref  \\\n",
       "0          0.098  https://www.youtube.com/watch?v=r0mNwyywHIY        70   \n",
       "1         -0.037  https://www.youtube.com/watch?v=i9NOkjmBszo        70   \n",
       "2          0.087  https://www.youtube.com/watch?v=v9geHIUOxeA        70   \n",
       "3          0.034  https://www.youtube.com/watch?v=bgf18kANm_k        70   \n",
       "4         -0.056  https://www.youtube.com/watch?v=kyfXEMqvLgU        70   \n",
       "\n",
       "   week_open week_close  \n",
       "0 2022-02-04 2022-02-10  \n",
       "1 2022-02-04 2022-02-10  \n",
       "2 2022-02-04 2022-02-10  \n",
       "3 2022-02-04 2022-02-10  \n",
       "4 2022-02-04 2022-02-10  "
      ]
     },
     "execution_count": 50,
     "metadata": {},
     "output_type": "execute_result"
    }
   ],
   "source": [
    "weekly_charts['Weekly Growth'] = weekly_charts['Weekly Growth'].str.rstrip('%').astype('float') / 100.0\n",
    "weekly_charts[\"Weekly Growth\"].fillna(0, inplace=True)\n",
    "weekly_charts.info()\n",
    "weekly_charts.head()"
   ]
  },
  {
   "attachments": {},
   "cell_type": "markdown",
   "metadata": {},
   "source": [
    "Salvaremos o dataframe resultante em `.csv` como referência e `pickle` para manter os tipos de dados, facilitando a interação dos arquivos entre os notebooks."
   ]
  },
  {
   "cell_type": "code",
   "execution_count": 51,
   "metadata": {},
   "outputs": [],
   "source": [
    "weekly_charts.to_csv(\"../data/trusted/weekly_charts.csv\", index=False)\n",
    "weekly_charts.to_pickle(\"../data/trusted/weekly_charts.pkl\")\n"
   ]
  }
 ],
 "metadata": {
  "kernelspec": {
   "display_name": "cadmus_sony",
   "language": "python",
   "name": "python3"
  },
  "language_info": {
   "codemirror_mode": {
    "name": "ipython",
    "version": 3
   },
   "file_extension": ".py",
   "mimetype": "text/x-python",
   "name": "python",
   "nbconvert_exporter": "python",
   "pygments_lexer": "ipython3",
   "version": "3.11.3"
  },
  "orig_nbformat": 4
 },
 "nbformat": 4,
 "nbformat_minor": 2
}
