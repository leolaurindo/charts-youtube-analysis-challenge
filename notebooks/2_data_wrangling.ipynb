{
 "cells": [
  {
   "attachments": {},
   "cell_type": "markdown",
   "metadata": {},
   "source": [
    "Neste notebook, consumiremos a api do youtube a fim de adicionar à nossa base de dados a data de publicação como cluna.\n",
    "\n",
    "Posteriormente, ajustaremos tipos de dados e adicionaremos a categoria `frontline` como valor `booleano`"
   ]
  },
  {
   "attachments": {},
   "cell_type": "markdown",
   "metadata": {},
   "source": [
    "Importaremos o arquivo pickle pois ele mantém os tipos, tirando redundância de operações dentro de um ambiente `python`. Entretando, nos certificaremos de sempre manter arquivos .csv como referência."
   ]
  },
  {
   "cell_type": "code",
   "execution_count": 220,
   "metadata": {},
   "outputs": [
    {
     "name": "stdout",
     "output_type": "stream",
     "text": [
      "<class 'pandas.core.frame.DataFrame'>\n",
      "RangeIndex: 7100 entries, 0 to 7099\n",
      "Data columns (total 11 columns):\n",
      " #   Column          Non-Null Count  Dtype         \n",
      "---  ------          --------------  -----         \n",
      " 0   Rank            7100 non-null   int64         \n",
      " 1   Previous Rank   7100 non-null   int64         \n",
      " 2   Track Name      7100 non-null   object        \n",
      " 3   Artist Names    7100 non-null   object        \n",
      " 4   Weeks on Chart  7100 non-null   int64         \n",
      " 5   Views           7100 non-null   int64         \n",
      " 6   Weekly Growth   7100 non-null   float64       \n",
      " 7   YouTube URL     7100 non-null   object        \n",
      " 8   week_ref        7100 non-null   int64         \n",
      " 9   week_open       7100 non-null   datetime64[ns]\n",
      " 10  week_close      7100 non-null   datetime64[ns]\n",
      "dtypes: datetime64[ns](2), float64(1), int64(5), object(3)\n",
      "memory usage: 610.3+ KB\n"
     ]
    }
   ],
   "source": [
    "import pandas as pd\n",
    "\n",
    "weekly_charts = pd.read_pickle(\"../data/trusted/weekly_charts.pkl\")\n",
    "weekly_charts.info()"
   ]
  },
  {
   "attachments": {},
   "cell_type": "markdown",
   "metadata": {},
   "source": [
    "O método será filtrar por urls únicas e fazer um request para a api do youtube a partir dos IDs contidos nessas urls. Por fim, adicionaremos ao dataframe por meio de um join."
   ]
  },
  {
   "cell_type": "code",
   "execution_count": 221,
   "metadata": {},
   "outputs": [
    {
     "name": "stdout",
     "output_type": "stream",
     "text": [
      "<class 'pandas.core.frame.DataFrame'>\n",
      "RangeIndex: 756 entries, 0 to 755\n",
      "Data columns (total 1 columns):\n",
      " #   Column       Non-Null Count  Dtype \n",
      "---  ------       --------------  ----- \n",
      " 0   YouTube URL  756 non-null    object\n",
      "dtypes: object(1)\n",
      "memory usage: 6.0+ KB\n"
     ]
    },
    {
     "data": {
      "text/html": [
       "<div>\n",
       "<style scoped>\n",
       "    .dataframe tbody tr th:only-of-type {\n",
       "        vertical-align: middle;\n",
       "    }\n",
       "\n",
       "    .dataframe tbody tr th {\n",
       "        vertical-align: top;\n",
       "    }\n",
       "\n",
       "    .dataframe thead th {\n",
       "        text-align: right;\n",
       "    }\n",
       "</style>\n",
       "<table border=\"1\" class=\"dataframe\">\n",
       "  <thead>\n",
       "    <tr style=\"text-align: right;\">\n",
       "      <th></th>\n",
       "      <th>YouTube URL</th>\n",
       "    </tr>\n",
       "  </thead>\n",
       "  <tbody>\n",
       "    <tr>\n",
       "      <th>746</th>\n",
       "      <td>https://www.youtube.com/watch?v=bydRD0taXIY</td>\n",
       "    </tr>\n",
       "    <tr>\n",
       "      <th>747</th>\n",
       "      <td>https://www.youtube.com/watch?v=0yPQnBG0hzQ</td>\n",
       "    </tr>\n",
       "    <tr>\n",
       "      <th>748</th>\n",
       "      <td>https://www.youtube.com/watch?v=QdWAkRK3HOk</td>\n",
       "    </tr>\n",
       "    <tr>\n",
       "      <th>749</th>\n",
       "      <td>https://www.youtube.com/watch?v=HPM7OWuchFs</td>\n",
       "    </tr>\n",
       "    <tr>\n",
       "      <th>750</th>\n",
       "      <td>https://www.youtube.com/watch?v=FtHBS6WLsfo</td>\n",
       "    </tr>\n",
       "    <tr>\n",
       "      <th>751</th>\n",
       "      <td>https://www.youtube.com/watch?v=6Pix8tMSN6g</td>\n",
       "    </tr>\n",
       "    <tr>\n",
       "      <th>752</th>\n",
       "      <td>https://www.youtube.com/watch?v=O7609yfn88E</td>\n",
       "    </tr>\n",
       "    <tr>\n",
       "      <th>753</th>\n",
       "      <td>https://www.youtube.com/watch?v=UgdUPzGsWwI</td>\n",
       "    </tr>\n",
       "    <tr>\n",
       "      <th>754</th>\n",
       "      <td>https://www.youtube.com/watch?v=lf-KK2iWVkE</td>\n",
       "    </tr>\n",
       "    <tr>\n",
       "      <th>755</th>\n",
       "      <td>https://www.youtube.com/watch?v=yx_yQuQjOIo</td>\n",
       "    </tr>\n",
       "  </tbody>\n",
       "</table>\n",
       "</div>"
      ],
      "text/plain": [
       "                                     YouTube URL\n",
       "746  https://www.youtube.com/watch?v=bydRD0taXIY\n",
       "747  https://www.youtube.com/watch?v=0yPQnBG0hzQ\n",
       "748  https://www.youtube.com/watch?v=QdWAkRK3HOk\n",
       "749  https://www.youtube.com/watch?v=HPM7OWuchFs\n",
       "750  https://www.youtube.com/watch?v=FtHBS6WLsfo\n",
       "751  https://www.youtube.com/watch?v=6Pix8tMSN6g\n",
       "752  https://www.youtube.com/watch?v=O7609yfn88E\n",
       "753  https://www.youtube.com/watch?v=UgdUPzGsWwI\n",
       "754  https://www.youtube.com/watch?v=lf-KK2iWVkE\n",
       "755  https://www.youtube.com/watch?v=yx_yQuQjOIo"
      ]
     },
     "execution_count": 221,
     "metadata": {},
     "output_type": "execute_result"
    }
   ],
   "source": [
    "unique_urls = weekly_charts['YouTube URL'].unique()\n",
    "df_urls = pd.DataFrame(unique_urls, columns=['YouTube URL'])\n",
    "df_urls.info()\n",
    "df_urls.tail(10)"
   ]
  },
  {
   "attachments": {},
   "cell_type": "markdown",
   "metadata": {},
   "source": [
    "Consumindo a api:"
   ]
  },
  {
   "cell_type": "code",
   "execution_count": 222,
   "metadata": {},
   "outputs": [
    {
     "data": {
      "text/plain": [
       "'from googleapiclient.discovery import build\\nimport pandas as pd\\n\\napi_key = \\'INSIRA SUA CHAVE API AQUI\\'\\n\\nyoutube = build(\\'youtube\\', \\'v3\\', developerKey=api_key)\\n\\ndef get_publish_date(video_url):\\n    try:\\n        # extract the video ID from the URL\\n        video_id = video_url.split(\\'v=\\')[-1]\\n\\n        # get the video details\\n        video_details = youtube.videos().list(part=\\'snippet\\', id=video_id).execute()\\n\\n        if video_details[\\'items\\']:\\n            # get the publish date\\n            publish_date = video_details[\\'items\\'][0][\\'snippet\\'][\\'publishedAt\\']\\n            return publish_date\\n        else:\\n            print(f\"Não foram encontradas informações  para o vídeo {video_url}\")\\n            return None\\n\\n    except Exception as e:\\n        print(f\"Falha em conseguir a data de publicação para o vídeo {video_url}, error: {str(e)}\")\\n        return None\\n\\ndf_urls[\\'Publish Date\\'] = df_urls[\\'YouTube URL\\'].apply(get_publish_date)'"
      ]
     },
     "execution_count": 222,
     "metadata": {},
     "output_type": "execute_result"
    }
   ],
   "source": [
    "\"\"\"from googleapiclient.discovery import build\n",
    "import pandas as pd\n",
    "\n",
    "api_key = 'INSIRA SUA CHAVE API AQUI'\n",
    "\n",
    "youtube = build('youtube', 'v3', developerKey=api_key)\n",
    "\n",
    "def get_publish_date(video_url):\n",
    "    try:\n",
    "        # extract the video ID from the URL\n",
    "        video_id = video_url.split('v=')[-1]\n",
    "\n",
    "        # get the video details\n",
    "        video_details = youtube.videos().list(part='snippet', id=video_id).execute()\n",
    "\n",
    "        if video_details['items']:\n",
    "            # get the publish date\n",
    "            publish_date = video_details['items'][0]['snippet']['publishedAt']\n",
    "            return publish_date\n",
    "        else:\n",
    "            print(f\"Não foram encontradas informações  para o vídeo {video_url}\")\n",
    "            return None\n",
    "\n",
    "    except Exception as e:\n",
    "        print(f\"Falha em conseguir a data de publicação para o vídeo {video_url}, error: {str(e)}\")\n",
    "        return None\n",
    "\n",
    "df_urls['Publish Date'] = df_urls['YouTube URL'].apply(get_publish_date)\"\"\""
   ]
  },
  {
   "attachments": {},
   "cell_type": "markdown",
   "metadata": {},
   "source": [
    "Vamos analisar essa url sem id. Antes, salvaremos o dataframe para não precisar consumir a `api` novamente caso o `kernel` precise ser reiniciado."
   ]
  },
  {
   "cell_type": "code",
   "execution_count": 223,
   "metadata": {},
   "outputs": [],
   "source": [
    "# df_urls.to_csv(\"../data/trusted/published_dates.csv\", index=False)"
   ]
  },
  {
   "cell_type": "code",
   "execution_count": 224,
   "metadata": {},
   "outputs": [],
   "source": [
    "df_urls = pd.read_csv(\"../data/trusted/published_dates.csv\")"
   ]
  },
  {
   "cell_type": "code",
   "execution_count": 225,
   "metadata": {},
   "outputs": [
    {
     "name": "stdout",
     "output_type": "stream",
     "text": [
      "<class 'pandas.core.frame.DataFrame'>\n",
      "RangeIndex: 756 entries, 0 to 755\n",
      "Data columns (total 2 columns):\n",
      " #   Column        Non-Null Count  Dtype \n",
      "---  ------        --------------  ----- \n",
      " 0   YouTube URL   756 non-null    object\n",
      " 1   Publish Date  755 non-null    object\n",
      "dtypes: object(2)\n",
      "memory usage: 11.9+ KB\n"
     ]
    },
    {
     "data": {
      "text/html": [
       "<div>\n",
       "<style scoped>\n",
       "    .dataframe tbody tr th:only-of-type {\n",
       "        vertical-align: middle;\n",
       "    }\n",
       "\n",
       "    .dataframe tbody tr th {\n",
       "        vertical-align: top;\n",
       "    }\n",
       "\n",
       "    .dataframe thead th {\n",
       "        text-align: right;\n",
       "    }\n",
       "</style>\n",
       "<table border=\"1\" class=\"dataframe\">\n",
       "  <thead>\n",
       "    <tr style=\"text-align: right;\">\n",
       "      <th></th>\n",
       "      <th>YouTube URL</th>\n",
       "      <th>Publish Date</th>\n",
       "    </tr>\n",
       "  </thead>\n",
       "  <tbody>\n",
       "    <tr>\n",
       "      <th>68</th>\n",
       "      <td>https://www.youtube.com/watch?v=</td>\n",
       "      <td>NaN</td>\n",
       "    </tr>\n",
       "  </tbody>\n",
       "</table>\n",
       "</div>"
      ],
      "text/plain": [
       "                         YouTube URL Publish Date\n",
       "68  https://www.youtube.com/watch?v=          NaN"
      ]
     },
     "execution_count": 225,
     "metadata": {},
     "output_type": "execute_result"
    }
   ],
   "source": [
    "df_urls.info()\n",
    "null_url = df_urls[df_urls.isnull().any(axis=1)].copy()\n",
    "null_url"
   ]
  },
  {
   "attachments": {},
   "cell_type": "markdown",
   "metadata": {},
   "source": [
    "Analisaremos os nulos no df antigo, que possui as demais informações."
   ]
  },
  {
   "cell_type": "code",
   "execution_count": 226,
   "metadata": {},
   "outputs": [
    {
     "name": "stdout",
     "output_type": "stream",
     "text": [
      "<class 'pandas.core.frame.DataFrame'>\n",
      "RangeIndex: 80 entries, 0 to 79\n",
      "Data columns (total 12 columns):\n",
      " #   Column          Non-Null Count  Dtype         \n",
      "---  ------          --------------  -----         \n",
      " 0   index           80 non-null     int64         \n",
      " 1   Rank            80 non-null     int64         \n",
      " 2   Previous Rank   80 non-null     int64         \n",
      " 3   Track Name      80 non-null     object        \n",
      " 4   Artist Names    80 non-null     object        \n",
      " 5   Weeks on Chart  80 non-null     int64         \n",
      " 6   Views           80 non-null     int64         \n",
      " 7   Weekly Growth   80 non-null     float64       \n",
      " 8   YouTube URL     80 non-null     object        \n",
      " 9   week_ref        80 non-null     int64         \n",
      " 10  week_open       80 non-null     datetime64[ns]\n",
      " 11  week_close      80 non-null     datetime64[ns]\n",
      "dtypes: datetime64[ns](2), float64(1), int64(6), object(3)\n",
      "memory usage: 7.6+ KB\n"
     ]
    }
   ],
   "source": [
    "empty_id = weekly_charts[weekly_charts[\"YouTube URL\"].str.len() < len(\"https://www.youtube.com/watch?v=\")+1]\n",
    "empty_id = empty_id.reset_index()\n",
    "empty_id.info()"
   ]
  },
  {
   "cell_type": "code",
   "execution_count": 227,
   "metadata": {},
   "outputs": [
    {
     "data": {
      "text/plain": [
       "array(['Ela me Falou Que Quer Rave', 'Bagulho Louco',\n",
       "       'Olho no Olho Coraçao Acelera', 'Set Wesley Alemão',\n",
       "       'Lovezinho (Sexy Version) (Remix)', 'Duas',\n",
       "       'Cadê Seu Namorado Moça?'], dtype=object)"
      ]
     },
     "execution_count": 227,
     "metadata": {},
     "output_type": "execute_result"
    }
   ],
   "source": [
    "track_names = empty_id[\"Track Name\"].unique()\n",
    "track_names"
   ]
  },
  {
   "attachments": {},
   "cell_type": "markdown",
   "metadata": {},
   "source": [
    "Vendo como se espalham pelas semanas para saber se é um problema de uma das páginas específicas ou algo da api do youtube."
   ]
  },
  {
   "cell_type": "code",
   "execution_count": 228,
   "metadata": {},
   "outputs": [
    {
     "data": {
      "text/plain": [
       "array([70, 69, 68, 67, 66, 58, 57, 56, 55, 54, 53, 52, 51, 50, 49, 48, 47,\n",
       "       46, 45, 44, 43, 42, 41, 40, 39, 38, 37, 36, 35, 34, 33, 32, 31, 30,\n",
       "       29, 28, 27, 26, 25, 24, 23, 22, 21, 19, 17, 16, 15, 14, 13, 12, 11,\n",
       "       10,  9,  8,  7,  6,  5,  4,  3,  2,  1,  0], dtype=int64)"
      ]
     },
     "execution_count": 228,
     "metadata": {},
     "output_type": "execute_result"
    }
   ],
   "source": [
    "empty_id[\"week_ref\"].unique()"
   ]
  },
  {
   "attachments": {},
   "cell_type": "markdown",
   "metadata": {},
   "source": [
    "É algo geral. Verificando nas páginas, percebo que algumas poucas vezes o vídeo fica sem link."
   ]
  },
  {
   "cell_type": "code",
   "execution_count": 229,
   "metadata": {},
   "outputs": [
    {
     "name": "stdout",
     "output_type": "stream",
     "text": [
      "Quantidade de linhas sem id: 80\n",
      "Quantidade de faixas sem id: 7\n"
     ]
    }
   ],
   "source": [
    "print(f\"Quantidade de linhas sem id: {len(empty_id)}\")\n",
    "print(f\"Quantidade de faixas sem id: {len(track_names)}\")"
   ]
  },
  {
   "attachments": {},
   "cell_type": "markdown",
   "metadata": {},
   "source": [
    "Por desencargo, procurando se há urls com id semi preenchido. Teria apitado no `try-except` na hora de executar o `for` para consumir a `api`, mas nunca se sabe."
   ]
  },
  {
   "cell_type": "code",
   "execution_count": 230,
   "metadata": {},
   "outputs": [
    {
     "data": {
      "text/plain": [
       "80"
      ]
     },
     "execution_count": 230,
     "metadata": {},
     "output_type": "execute_result"
    }
   ],
   "source": [
    "test = weekly_charts[weekly_charts[\"YouTube URL\"].str.len() < len(\"https://www.youtube.com/watch?v=yx_yQuQjOIo\")]\n",
    "len(test)"
   ]
  },
  {
   "cell_type": "code",
   "execution_count": 231,
   "metadata": {},
   "outputs": [
    {
     "name": "stdout",
     "output_type": "stream",
     "text": [
      "As 7 músicas representam 0.93% do total de faixas\n",
      "As 80 linhas representam 1.13% do total de eventos no dataframe\n"
     ]
    }
   ],
   "source": [
    "tracks_to_total = len(track_names)/len(df_urls)\n",
    "events_to_total = len(empty_id)/len(weekly_charts)\n",
    "\n",
    "print(f\"As {len(track_names)} músicas representam {tracks_to_total*100:.2f}% do total de faixas\")\n",
    "print(f\"As {len(empty_id)} linhas representam {events_to_total*100:.2f}% do total de eventos no dataframe\")"
   ]
  },
  {
   "attachments": {},
   "cell_type": "markdown",
   "metadata": {},
   "source": [
    "Mesmo número que o anterior, são só aqueles mesmo.\n",
    "\n",
    "Temos 80 linhas sem id, num total, correspondendo a 7 músicas.\n",
    "\n",
    "Tais números representam amostra reduzida to dataframe original.\n",
    "\n",
    "De qualquer forma, isso seria uma decisão a ser tomada em conjunto com a equipe, para saber quais os métodos e técnicas adequadas para proceder nesses casos.\n",
    "\n",
    "Para fins desse exercício, buscando deixar o processo fluido e replicar um ambiente semi-automarizado, essas linhas serão `dropadas` dos dataframes e excluídas da análise."
   ]
  },
  {
   "cell_type": "code",
   "execution_count": 232,
   "metadata": {},
   "outputs": [],
   "source": [
    "mask_drop_empities = weekly_charts[\"YouTube URL\"].str.len() < 33\n",
    "weekly_charts = weekly_charts[~mask_drop_empities]"
   ]
  },
  {
   "cell_type": "code",
   "execution_count": 233,
   "metadata": {},
   "outputs": [
    {
     "name": "stdout",
     "output_type": "stream",
     "text": [
      "<class 'pandas.core.frame.DataFrame'>\n",
      "RangeIndex: 7020 entries, 0 to 7019\n",
      "Data columns (total 11 columns):\n",
      " #   Column          Non-Null Count  Dtype         \n",
      "---  ------          --------------  -----         \n",
      " 0   Rank            7020 non-null   int64         \n",
      " 1   Previous Rank   7020 non-null   int64         \n",
      " 2   Track Name      7020 non-null   object        \n",
      " 3   Artist Names    7020 non-null   object        \n",
      " 4   Weeks on Chart  7020 non-null   int64         \n",
      " 5   Views           7020 non-null   int64         \n",
      " 6   Weekly Growth   7020 non-null   float64       \n",
      " 7   YouTube URL     7020 non-null   object        \n",
      " 8   week_ref        7020 non-null   int64         \n",
      " 9   week_open       7020 non-null   datetime64[ns]\n",
      " 10  week_close      7020 non-null   datetime64[ns]\n",
      "dtypes: datetime64[ns](2), float64(1), int64(5), object(3)\n",
      "memory usage: 603.4+ KB\n"
     ]
    }
   ],
   "source": [
    "weekly_charts.reset_index(drop = True, inplace=True)\n",
    "weekly_charts.info()"
   ]
  },
  {
   "cell_type": "code",
   "execution_count": 234,
   "metadata": {},
   "outputs": [
    {
     "name": "stdout",
     "output_type": "stream",
     "text": [
      "<class 'pandas.core.frame.DataFrame'>\n",
      "RangeIndex: 755 entries, 0 to 754\n",
      "Data columns (total 2 columns):\n",
      " #   Column        Non-Null Count  Dtype \n",
      "---  ------        --------------  ----- \n",
      " 0   YouTube URL   755 non-null    object\n",
      " 1   Publish Date  755 non-null    object\n",
      "dtypes: object(2)\n",
      "memory usage: 11.9+ KB\n"
     ]
    }
   ],
   "source": [
    "mask_drop_empities = df_urls[\"YouTube URL\"].str.len() < 33\n",
    "df_urls = df_urls[~mask_drop_empities]\n",
    "df_urls.reset_index(drop=True, inplace = True)\n",
    "df_urls.info()"
   ]
  },
  {
   "attachments": {},
   "cell_type": "markdown",
   "metadata": {},
   "source": [
    "# Juntando os dataframes (`join`)"
   ]
  },
  {
   "cell_type": "code",
   "execution_count": 235,
   "metadata": {},
   "outputs": [
    {
     "name": "stdout",
     "output_type": "stream",
     "text": [
      "<class 'pandas.core.frame.DataFrame'>\n",
      "RangeIndex: 755 entries, 0 to 754\n",
      "Data columns (total 2 columns):\n",
      " #   Column        Non-Null Count  Dtype \n",
      "---  ------        --------------  ----- \n",
      " 0   YouTube URL   755 non-null    object\n",
      " 1   Publish Date  755 non-null    object\n",
      "dtypes: object(2)\n",
      "memory usage: 11.9+ KB\n",
      "<class 'pandas.core.frame.DataFrame'>\n",
      "RangeIndex: 7020 entries, 0 to 7019\n",
      "Data columns (total 11 columns):\n",
      " #   Column          Non-Null Count  Dtype         \n",
      "---  ------          --------------  -----         \n",
      " 0   Rank            7020 non-null   int64         \n",
      " 1   Previous Rank   7020 non-null   int64         \n",
      " 2   Track Name      7020 non-null   object        \n",
      " 3   Artist Names    7020 non-null   object        \n",
      " 4   Weeks on Chart  7020 non-null   int64         \n",
      " 5   Views           7020 non-null   int64         \n",
      " 6   Weekly Growth   7020 non-null   float64       \n",
      " 7   YouTube URL     7020 non-null   object        \n",
      " 8   week_ref        7020 non-null   int64         \n",
      " 9   week_open       7020 non-null   datetime64[ns]\n",
      " 10  week_close      7020 non-null   datetime64[ns]\n",
      "dtypes: datetime64[ns](2), float64(1), int64(5), object(3)\n",
      "memory usage: 603.4+ KB\n"
     ]
    }
   ],
   "source": [
    "df_urls.info()\n",
    "weekly_charts.info()"
   ]
  },
  {
   "attachments": {},
   "cell_type": "markdown",
   "metadata": {},
   "source": [
    "Será utilizado o método .merge() do pandas para realizar um `inner join` e será verificado se tudo ocorreu como esperado"
   ]
  },
  {
   "cell_type": "code",
   "execution_count": 236,
   "metadata": {},
   "outputs": [],
   "source": [
    "refined_df = weekly_charts.merge(df_urls, on= \"YouTube URL\")"
   ]
  },
  {
   "cell_type": "code",
   "execution_count": 237,
   "metadata": {},
   "outputs": [
    {
     "data": {
      "text/plain": [
       "True"
      ]
     },
     "execution_count": 237,
     "metadata": {},
     "output_type": "execute_result"
    }
   ],
   "source": [
    "len(refined_df) == len(weekly_charts)"
   ]
  },
  {
   "cell_type": "code",
   "execution_count": 238,
   "metadata": {},
   "outputs": [
    {
     "data": {
      "text/plain": [
       "0"
      ]
     },
     "execution_count": 238,
     "metadata": {},
     "output_type": "execute_result"
    }
   ],
   "source": [
    "count_strings = sum(refined_df[\"YouTube URL\"].str.len() < 33)\n",
    "count_strings"
   ]
  },
  {
   "attachments": {},
   "cell_type": "markdown",
   "metadata": {},
   "source": [
    "Para finalizar este notebook, convertemos a coluna publised dates para datas e salvaremos os arquivos como refined, isto é, arquivos prontos para análise"
   ]
  },
  {
   "cell_type": "code",
   "execution_count": 239,
   "metadata": {},
   "outputs": [
    {
     "data": {
      "text/html": [
       "<div>\n",
       "<style scoped>\n",
       "    .dataframe tbody tr th:only-of-type {\n",
       "        vertical-align: middle;\n",
       "    }\n",
       "\n",
       "    .dataframe tbody tr th {\n",
       "        vertical-align: top;\n",
       "    }\n",
       "\n",
       "    .dataframe thead th {\n",
       "        text-align: right;\n",
       "    }\n",
       "</style>\n",
       "<table border=\"1\" class=\"dataframe\">\n",
       "  <thead>\n",
       "    <tr style=\"text-align: right;\">\n",
       "      <th></th>\n",
       "      <th>Rank</th>\n",
       "      <th>Previous Rank</th>\n",
       "      <th>Track Name</th>\n",
       "      <th>Artist Names</th>\n",
       "      <th>Weeks on Chart</th>\n",
       "      <th>Views</th>\n",
       "      <th>Weekly Growth</th>\n",
       "      <th>YouTube URL</th>\n",
       "      <th>week_ref</th>\n",
       "      <th>week_open</th>\n",
       "      <th>week_close</th>\n",
       "      <th>Publish Date</th>\n",
       "    </tr>\n",
       "  </thead>\n",
       "  <tbody>\n",
       "    <tr>\n",
       "      <th>0</th>\n",
       "      <td>1</td>\n",
       "      <td>1</td>\n",
       "      <td>Malvada</td>\n",
       "      <td>Zé Felipe</td>\n",
       "      <td>2</td>\n",
       "      <td>21185310</td>\n",
       "      <td>0.098</td>\n",
       "      <td>https://www.youtube.com/watch?v=r0mNwyywHIY</td>\n",
       "      <td>70</td>\n",
       "      <td>2022-02-04</td>\n",
       "      <td>2022-02-10</td>\n",
       "      <td>2022-01-28T15:00:12Z</td>\n",
       "    </tr>\n",
       "    <tr>\n",
       "      <th>1</th>\n",
       "      <td>1</td>\n",
       "      <td>1</td>\n",
       "      <td>Malvada</td>\n",
       "      <td>Zé Felipe</td>\n",
       "      <td>3</td>\n",
       "      <td>17507479</td>\n",
       "      <td>-0.174</td>\n",
       "      <td>https://www.youtube.com/watch?v=r0mNwyywHIY</td>\n",
       "      <td>69</td>\n",
       "      <td>2022-02-11</td>\n",
       "      <td>2022-02-17</td>\n",
       "      <td>2022-01-28T15:00:12Z</td>\n",
       "    </tr>\n",
       "    <tr>\n",
       "      <th>2</th>\n",
       "      <td>1</td>\n",
       "      <td>1</td>\n",
       "      <td>Malvada</td>\n",
       "      <td>Zé Felipe</td>\n",
       "      <td>4</td>\n",
       "      <td>16148340</td>\n",
       "      <td>-0.078</td>\n",
       "      <td>https://www.youtube.com/watch?v=r0mNwyywHIY</td>\n",
       "      <td>68</td>\n",
       "      <td>2022-02-18</td>\n",
       "      <td>2022-02-24</td>\n",
       "      <td>2022-01-28T15:00:12Z</td>\n",
       "    </tr>\n",
       "    <tr>\n",
       "      <th>3</th>\n",
       "      <td>1</td>\n",
       "      <td>1</td>\n",
       "      <td>Malvada</td>\n",
       "      <td>Zé Felipe</td>\n",
       "      <td>5</td>\n",
       "      <td>17136822</td>\n",
       "      <td>0.061</td>\n",
       "      <td>https://www.youtube.com/watch?v=r0mNwyywHIY</td>\n",
       "      <td>67</td>\n",
       "      <td>2022-02-25</td>\n",
       "      <td>2022-03-03</td>\n",
       "      <td>2022-01-28T15:00:12Z</td>\n",
       "    </tr>\n",
       "    <tr>\n",
       "      <th>4</th>\n",
       "      <td>1</td>\n",
       "      <td>1</td>\n",
       "      <td>Malvada</td>\n",
       "      <td>Zé Felipe</td>\n",
       "      <td>6</td>\n",
       "      <td>14849090</td>\n",
       "      <td>-0.133</td>\n",
       "      <td>https://www.youtube.com/watch?v=r0mNwyywHIY</td>\n",
       "      <td>66</td>\n",
       "      <td>2022-03-04</td>\n",
       "      <td>2022-03-10</td>\n",
       "      <td>2022-01-28T15:00:12Z</td>\n",
       "    </tr>\n",
       "  </tbody>\n",
       "</table>\n",
       "</div>"
      ],
      "text/plain": [
       "   Rank  Previous Rank Track Name Artist Names  Weeks on Chart     Views  \\\n",
       "0     1              1    Malvada    Zé Felipe               2  21185310   \n",
       "1     1              1    Malvada    Zé Felipe               3  17507479   \n",
       "2     1              1    Malvada    Zé Felipe               4  16148340   \n",
       "3     1              1    Malvada    Zé Felipe               5  17136822   \n",
       "4     1              1    Malvada    Zé Felipe               6  14849090   \n",
       "\n",
       "   Weekly Growth                                  YouTube URL  week_ref  \\\n",
       "0          0.098  https://www.youtube.com/watch?v=r0mNwyywHIY        70   \n",
       "1         -0.174  https://www.youtube.com/watch?v=r0mNwyywHIY        69   \n",
       "2         -0.078  https://www.youtube.com/watch?v=r0mNwyywHIY        68   \n",
       "3          0.061  https://www.youtube.com/watch?v=r0mNwyywHIY        67   \n",
       "4         -0.133  https://www.youtube.com/watch?v=r0mNwyywHIY        66   \n",
       "\n",
       "   week_open week_close          Publish Date  \n",
       "0 2022-02-04 2022-02-10  2022-01-28T15:00:12Z  \n",
       "1 2022-02-11 2022-02-17  2022-01-28T15:00:12Z  \n",
       "2 2022-02-18 2022-02-24  2022-01-28T15:00:12Z  \n",
       "3 2022-02-25 2022-03-03  2022-01-28T15:00:12Z  \n",
       "4 2022-03-04 2022-03-10  2022-01-28T15:00:12Z  "
      ]
     },
     "execution_count": 239,
     "metadata": {},
     "output_type": "execute_result"
    }
   ],
   "source": [
    "refined_df.head()"
   ]
  },
  {
   "cell_type": "code",
   "execution_count": 240,
   "metadata": {},
   "outputs": [],
   "source": [
    "refined_df[\"Publish Date\"] = pd.to_datetime(refined_df[\"Publish Date\"]).dt.date\n",
    "refined_df[\"Publish Date\"] = pd.to_datetime(refined_df[\"Publish Date\"])\n"
   ]
  },
  {
   "cell_type": "code",
   "execution_count": 241,
   "metadata": {},
   "outputs": [
    {
     "name": "stdout",
     "output_type": "stream",
     "text": [
      "<class 'pandas.core.frame.DataFrame'>\n",
      "Int64Index: 7020 entries, 0 to 7019\n",
      "Data columns (total 12 columns):\n",
      " #   Column          Non-Null Count  Dtype         \n",
      "---  ------          --------------  -----         \n",
      " 0   Rank            7020 non-null   int64         \n",
      " 1   Previous Rank   7020 non-null   int64         \n",
      " 2   Track Name      7020 non-null   object        \n",
      " 3   Artist Names    7020 non-null   object        \n",
      " 4   Weeks on Chart  7020 non-null   int64         \n",
      " 5   Views           7020 non-null   int64         \n",
      " 6   Weekly Growth   7020 non-null   float64       \n",
      " 7   YouTube URL     7020 non-null   object        \n",
      " 8   week_ref        7020 non-null   int64         \n",
      " 9   week_open       7020 non-null   datetime64[ns]\n",
      " 10  week_close      7020 non-null   datetime64[ns]\n",
      " 11  Publish Date    7020 non-null   datetime64[ns]\n",
      "dtypes: datetime64[ns](3), float64(1), int64(5), object(3)\n",
      "memory usage: 713.0+ KB\n"
     ]
    },
    {
     "data": {
      "text/plain": [
       "0   2022-01-28\n",
       "1   2022-01-28\n",
       "2   2022-01-28\n",
       "3   2022-01-28\n",
       "4   2022-01-28\n",
       "Name: Publish Date, dtype: datetime64[ns]"
      ]
     },
     "execution_count": 241,
     "metadata": {},
     "output_type": "execute_result"
    }
   ],
   "source": [
    "refined_df.info()\n",
    "refined_df[\"Publish Date\"].head()"
   ]
  },
  {
   "attachments": {},
   "cell_type": "markdown",
   "metadata": {},
   "source": [
    "Finalmente, adicionaremos a coluna `frontline`, que receberá valores booleanos `0` e `1`. A depender do workflow, aqui também poderiam ser recebidos os valores `True` e `False`, geralmente aceitos pela maioria dos softwares de hoje em dia."
   ]
  },
  {
   "cell_type": "code",
   "execution_count": 242,
   "metadata": {},
   "outputs": [],
   "source": [
    "\n",
    "refined_df['frontline'] = (refined_df['week_open'] - refined_df['Publish Date']).dt.days <= 42*30\n"
   ]
  },
  {
   "attachments": {},
   "cell_type": "markdown",
   "metadata": {},
   "source": [
    "Checando com operadores `booleanos`"
   ]
  },
  {
   "cell_type": "code",
   "execution_count": 243,
   "metadata": {},
   "outputs": [
    {
     "name": "stdout",
     "output_type": "stream",
     "text": [
      "Todos os valores `frontline` possuem data de lançamento abaixo de 42 meses atrás: True\n",
      "Todos os valores `não-frontline` (catálogos) possuem data de lançamento  acima de 42 meses atrás: True\n"
     ]
    }
   ],
   "source": [
    "# Checking that all 'frontline' tracks were published within the last 42 months\n",
    "frontline_check = all((refined_df[refined_df['frontline']]['week_open'] - refined_df[refined_df['frontline']]['Publish Date']).dt.days <= 1260)\n",
    "\n",
    "# Checking that all non-'frontline' tracks were published more than 42 months ago\n",
    "non_frontline_check = all((refined_df[~refined_df['frontline']]['week_open'] - refined_df[~refined_df['frontline']]['Publish Date']).dt.days > 1260)\n",
    "\n",
    "print(\"Todos os valores `frontline` possuem data de lançamento abaixo de 42 meses atrás:\", frontline_check)\n",
    "print(\"Todos os valores `não-frontline` (catálogos) possuem data de lançamento  acima de 42 meses atrás:\", non_frontline_check)\n"
   ]
  },
  {
   "cell_type": "code",
   "execution_count": 244,
   "metadata": {},
   "outputs": [
    {
     "data": {
      "text/plain": [
       "True     6789\n",
       "False     231\n",
       "Name: frontline, dtype: int64"
      ]
     },
     "execution_count": 244,
     "metadata": {},
     "output_type": "execute_result"
    }
   ],
   "source": [
    "refined_df[\"frontline\"].value_counts()\n"
   ]
  },
  {
   "cell_type": "code",
   "execution_count": 245,
   "metadata": {},
   "outputs": [
    {
     "name": "stdout",
     "output_type": "stream",
     "text": [
      "<class 'pandas.core.frame.DataFrame'>\n",
      "Int64Index: 7020 entries, 0 to 7019\n",
      "Data columns (total 13 columns):\n",
      " #   Column          Non-Null Count  Dtype         \n",
      "---  ------          --------------  -----         \n",
      " 0   Rank            7020 non-null   int64         \n",
      " 1   Previous Rank   7020 non-null   int64         \n",
      " 2   Track Name      7020 non-null   object        \n",
      " 3   Artist Names    7020 non-null   object        \n",
      " 4   Weeks on Chart  7020 non-null   int64         \n",
      " 5   Views           7020 non-null   int64         \n",
      " 6   Weekly Growth   7020 non-null   float64       \n",
      " 7   YouTube URL     7020 non-null   object        \n",
      " 8   week_ref        7020 non-null   int64         \n",
      " 9   week_open       7020 non-null   datetime64[ns]\n",
      " 10  week_close      7020 non-null   datetime64[ns]\n",
      " 11  Publish Date    7020 non-null   datetime64[ns]\n",
      " 12  frontline       7020 non-null   bool          \n",
      "dtypes: bool(1), datetime64[ns](3), float64(1), int64(5), object(3)\n",
      "memory usage: 719.8+ KB\n"
     ]
    }
   ],
   "source": [
    "refined_df.info()"
   ]
  },
  {
   "attachments": {},
   "cell_type": "markdown",
   "metadata": {},
   "source": [
    "Salvando"
   ]
  },
  {
   "cell_type": "code",
   "execution_count": 246,
   "metadata": {},
   "outputs": [],
   "source": [
    "refined_df.to_pickle(\"../data/refined/refined.pkl\")\n",
    "refined_df.to_csv(\"../data/refined/refined.csv\", index=False)"
   ]
  }
 ],
 "metadata": {
  "kernelspec": {
   "display_name": "cadmus_sony",
   "language": "python",
   "name": "python3"
  },
  "language_info": {
   "codemirror_mode": {
    "name": "ipython",
    "version": 3
   },
   "file_extension": ".py",
   "mimetype": "text/x-python",
   "name": "python",
   "nbconvert_exporter": "python",
   "pygments_lexer": "ipython3",
   "version": "3.11.3"
  },
  "orig_nbformat": 4
 },
 "nbformat": 4,
 "nbformat_minor": 2
}
